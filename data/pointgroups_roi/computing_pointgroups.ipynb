{
 "cells": [
  {
   "cell_type": "code",
   "execution_count": 1,
   "metadata": {},
   "outputs": [],
   "source": [
    "import numpy as np\n",
    "import pandas as pd\n",
    "import matplotlib as mpl\n",
    "import matplotlib.pyplot as plt"
   ]
  },
  {
   "cell_type": "markdown",
   "metadata": {},
   "source": [
    "We're going to compute..."
   ]
  },
  {
   "cell_type": "markdown",
   "metadata": {},
   "source": [
    "### Number Theory Code\n",
    "\n",
    "The following code is needed for the function 'pointgroup_roi'.\n",
    "\n",
    "This function will take as input the following:\n",
    "* A pair $(a,p)$, that represents the equivalence class of curves mod $p$ with trace of Frobenius equal to $a$.\n",
    "* An integer $n$.\n",
    "\n",
    "\n",
    "It will return an array $[[x_0,y_0],[x_1,y_2]..]$,\n",
    "where the $[x_i,y_i]$ are points in the fundamental domain of $\\mathbb{C}/\\Lambda$,\n",
    "where the lattice $\\Lambda$ is the ring of integers of $\\mathbb{Q}(\\sqrt{a^2-4p})$.\n",
    "* The ring of integers appears in every equivalence class of lattices.\n",
    "* If the equivalence class contains exactly one element, then that element must be the ring of integers.\n",
    "\n",
    "So, if we only want to make a single picture for a given equivalence class, or we're making pictures of singleton equivalence classes, then the following code is enough to obtain the point group. "
   ]
  },
  {
   "cell_type": "code",
   "execution_count": 17,
   "metadata": {},
   "outputs": [],
   "source": [
    "def gcd(a,b):\n",
    "    a = abs(a)\n",
    "    b = abs(b)\n",
    "    if min(a,b)==0:\n",
    "        return max(a,b)\n",
    "    while b% a !=0:\n",
    "        r = b% a\n",
    "        b = a\n",
    "        a = r\n",
    "    return a\n",
    "\n",
    "\n",
    "def gcd_list(l):\n",
    "    d = 0\n",
    "    for a in l:\n",
    "        d = gcd(a,d)\n",
    "    return d\n",
    "\n",
    "def primefac(n):\n",
    "    if n == 0:\n",
    "        return {0:1}\n",
    "    pf = {}\n",
    "    if n < 0:\n",
    "        pf[-1]=1\n",
    "        n = abs(n)\n",
    "    if n % 2 == 0:\n",
    "        pf[2] = 0\n",
    "        while n % 2 == 0:\n",
    "            n = n//2\n",
    "            pf[2]+=1\n",
    "    if n % 3 == 0:\n",
    "        pf[3] = 0\n",
    "        while n % 3 == 0:\n",
    "            n = n//3\n",
    "            pf[3]+=1\n",
    "    d = 5\n",
    "    e = -1\n",
    "    while d*d <= n:\n",
    "        if n % d == 0:\n",
    "            pf[d] = 0\n",
    "            while n % d == 0:\n",
    "                n = n//d\n",
    "                pf[d]+=1\n",
    "        d+=3+e\n",
    "        e*=-1\n",
    "    if n > 1:\n",
    "        pf[n]=1\n",
    "    return pf\n",
    "\n",
    "def pf_to_int(pf):\n",
    "    n = 1\n",
    "    for p in pf:\n",
    "        n*= p**pf[p]\n",
    "    return n\n",
    "\n",
    "\n",
    "def quad_gcd(a,b):\n",
    "    pf1 = primefac(a)\n",
    "    pf2 = primefac(b)\n",
    "    if a == 0:\n",
    "        pfgcd = {p:pf2[p]//2 for p in pf2}\n",
    "        return pf_to_int(pfgcd)\n",
    "    pfgcd = {}\n",
    "    for p in pf1:\n",
    "        if p in pf2:\n",
    "            pfgcd[p] = min(pf1[p],pf2[p]//2)\n",
    "    return pf_to_int(pfgcd)\n",
    "\n",
    "def discfac(d):\n",
    "    pfd = primefac(d)\n",
    "    rt = pf_to_int({p:pfd[p]//2 for p in pfd})\n",
    "    fd = d//(rt*rt)\n",
    "    if fd % 4 > 1:\n",
    "        fd*=4\n",
    "        rt = rt//2\n",
    "    return fd, rt\n",
    "\n",
    "## Matrix computations\n",
    "def matrixgenfromd(d):\n",
    "    return np.matrix([[0,d//4],[1,-(d%4)]])\n",
    "\n",
    "def frobmatrixfromminpoly(ap):\n",
    "    a,p = ap\n",
    "    d = a*a-4*p\n",
    "    d0,m = discfac(d)\n",
    "    one = np.matrix([[1,0],[0,1]])\n",
    "    tau = matrixgenfromd(d0)\n",
    "    if d0 % 4 == 0:\n",
    "        return (a//2)*one+m*tau\n",
    "    else:\n",
    "        return ((a+m)//2) *one + m*tau\n",
    "\n",
    "def gcdmat(mat):\n",
    "    arr = np.array(mat).reshape(1,-1)[0]\n",
    "    return gcd_list([int(a) for a in arr])\n",
    "\n",
    "def matdet(m):\n",
    "    m = np.array(m)\n",
    "    return m[0,0]*m[1,1]-m[0,1]*m[1,0]\n",
    "\n",
    "def mattr(m):\n",
    "    m = np.array(m)\n",
    "    return m[0,0]+m[1,1]\n",
    "\n",
    "def mwexp_frommat(m):\n",
    "    t = mattr(m)\n",
    "    d = matdet(m)\n",
    "    return abs(quad_gcd(t,d))\n",
    "\n",
    "def matconj(m):\n",
    "    return m - mattr(m)*np.matrix([[1,0],[0,1]])\n",
    "\n",
    "def cx_to_arr(z)->np.array:\n",
    "    return np.array([z.real,z.imag])\n",
    "\n",
    "def pointgroup_roi(ap,n):\n",
    "    frob = frobmatrixfromminpoly(ap)\n",
    "    a,p = ap\n",
    "    d = a*a-4*p\n",
    "    d0,m = discfac(d)\n",
    "    frobpowerminusone= np.linalg.matrix_power(frob,n)-np.matrix([[1,0],[0,1]])\n",
    "    mw2exp = mwexp_frommat(frobpowerminusone)\n",
    "    mwcycmat = frobpowerminusone//mw2exp\n",
    "    cycorder = matdet(mwcycmat)\n",
    "    if cycorder == 1:\n",
    "        one_arr = np.array([1,0])\n",
    "        taumat = matrixgenfromd(d0)\n",
    "        tau_cp_coefs = [1,-mattr(taumat),matdet(taumat)]\n",
    "        tau_cx = np.roots(tau_cp_coefs)[0]\n",
    "        tau_arr = cx_to_arr(tau_cx)\n",
    "        return np.array([a*one_arr+b*tau_arr\n",
    "                         for a in range(mw2exp)\n",
    "                         for b in range(mw2exp)])/mw2exp\n",
    "    biggenorder = mw2exp*cycorder\n",
    "    generator = np.array(matconj(frobpowerminusone))\n",
    "    x = generator[0,0]%biggenorder\n",
    "    y = generator[1,0]%biggenorder\n",
    "    xygcd = gcd(x,y)\n",
    "    xg,yg = (x//xygcd,y/xygcd)\n",
    "    gen1intarr = np.array([xg,yg])\n",
    "    gen2aintarr = np.array([cycorder,0])\n",
    "    gen2bintarr = np.array([0,cycorder])\n",
    "    xyints_all = {tuple((a1*gen1intarr+a2*gen2aintarr+a3*gen2bintarr)% biggenorder)\n",
    "                  for a1 in range(biggenorder)\n",
    "                  for a2 in range(mw2exp)\n",
    "                  for a3 in range(mw2exp)}\n",
    "    one_arr = np.array([1,0])\n",
    "    taumat = matrixgenfromd(d0)\n",
    "    tau_cp_coefs = [1,-mattr(taumat),matdet(taumat)]\n",
    "    tau_cx = np.roots(tau_cp_coefs)[0]\n",
    "    tau_arr = cx_to_arr(tau_cx)\n",
    "    points = np.array([xy[0]*one_arr+xy[1]*tau_arr for xy in xyints_all])/biggenorder\n",
    "    return points"
   ]
  },
  {
   "cell_type": "markdown",
   "metadata": {},
   "source": [
    "## Examples"
   ]
  },
  {
   "cell_type": "markdown",
   "metadata": {},
   "source": [
    "I'm going to use the table of precomputed elliptic curve data to find pairs $(a,p)$ that have only one element in their equivalence class."
   ]
  },
  {
   "cell_type": "code",
   "execution_count": 18,
   "metadata": {},
   "outputs": [],
   "source": [
    "ellcurvedata = pd.read_pickle('../dataframes/elliptic_curve_counts.pk')"
   ]
  },
  {
   "cell_type": "code",
   "execution_count": 19,
   "metadata": {},
   "outputs": [
    {
     "data": {
      "text/html": [
       "<div>\n",
       "<style scoped>\n",
       "    .dataframe tbody tr th:only-of-type {\n",
       "        vertical-align: middle;\n",
       "    }\n",
       "\n",
       "    .dataframe tbody tr th {\n",
       "        vertical-align: top;\n",
       "    }\n",
       "\n",
       "    .dataframe thead th {\n",
       "        text-align: right;\n",
       "    }\n",
       "</style>\n",
       "<table border=\"1\" class=\"dataframe\">\n",
       "  <thead>\n",
       "    <tr style=\"text-align: right;\">\n",
       "      <th></th>\n",
       "      <th>TraceFrob</th>\n",
       "      <th>Prime</th>\n",
       "      <th>Discriminant</th>\n",
       "      <th>DiscriminantFac</th>\n",
       "      <th>jInvariants</th>\n",
       "      <th>degree</th>\n",
       "    </tr>\n",
       "    <tr>\n",
       "      <th>ap</th>\n",
       "      <th></th>\n",
       "      <th></th>\n",
       "      <th></th>\n",
       "      <th></th>\n",
       "      <th></th>\n",
       "      <th></th>\n",
       "    </tr>\n",
       "  </thead>\n",
       "  <tbody>\n",
       "    <tr>\n",
       "      <th>(0, 5)</th>\n",
       "      <td>0</td>\n",
       "      <td>5</td>\n",
       "      <td>-20</td>\n",
       "      <td>(-20, 1)</td>\n",
       "      <td>[0]</td>\n",
       "      <td>2</td>\n",
       "    </tr>\n",
       "    <tr>\n",
       "      <th>(1, 5)</th>\n",
       "      <td>1</td>\n",
       "      <td>5</td>\n",
       "      <td>-19</td>\n",
       "      <td>(-19, 1)</td>\n",
       "      <td>[4]</td>\n",
       "      <td>1</td>\n",
       "    </tr>\n",
       "    <tr>\n",
       "      <th>(2, 5)</th>\n",
       "      <td>2</td>\n",
       "      <td>5</td>\n",
       "      <td>-16</td>\n",
       "      <td>(-4, 2)</td>\n",
       "      <td>[1, 3]</td>\n",
       "      <td>2</td>\n",
       "    </tr>\n",
       "    <tr>\n",
       "      <th>(3, 5)</th>\n",
       "      <td>3</td>\n",
       "      <td>5</td>\n",
       "      <td>-11</td>\n",
       "      <td>(-11, 1)</td>\n",
       "      <td>[2]</td>\n",
       "      <td>1</td>\n",
       "    </tr>\n",
       "    <tr>\n",
       "      <th>(4, 5)</th>\n",
       "      <td>4</td>\n",
       "      <td>5</td>\n",
       "      <td>-4</td>\n",
       "      <td>(-4, 1)</td>\n",
       "      <td>[3]</td>\n",
       "      <td>1</td>\n",
       "    </tr>\n",
       "    <tr>\n",
       "      <th>...</th>\n",
       "      <td>...</td>\n",
       "      <td>...</td>\n",
       "      <td>...</td>\n",
       "      <td>...</td>\n",
       "      <td>...</td>\n",
       "      <td>...</td>\n",
       "    </tr>\n",
       "    <tr>\n",
       "      <th>(251, 16381)</th>\n",
       "      <td>251</td>\n",
       "      <td>16381</td>\n",
       "      <td>-2523</td>\n",
       "      <td>(-3, 29)</td>\n",
       "      <td>[6190, 6252, 6149, 8256, 6959, 1809, 10431, 10...</td>\n",
       "      <td>11</td>\n",
       "    </tr>\n",
       "    <tr>\n",
       "      <th>(252, 16381)</th>\n",
       "      <td>252</td>\n",
       "      <td>16381</td>\n",
       "      <td>-2020</td>\n",
       "      <td>(-2020, 1)</td>\n",
       "      <td>[7524, 11748, 7622, 9234, 16286, 6173, 2645, 7...</td>\n",
       "      <td>8</td>\n",
       "    </tr>\n",
       "    <tr>\n",
       "      <th>(253, 16381)</th>\n",
       "      <td>253</td>\n",
       "      <td>16381</td>\n",
       "      <td>-1515</td>\n",
       "      <td>(-1515, 1)</td>\n",
       "      <td>[7110, 8942, 10621, 1981, 9728, 3817, 4713, 58...</td>\n",
       "      <td>12</td>\n",
       "    </tr>\n",
       "    <tr>\n",
       "      <th>(254, 16381)</th>\n",
       "      <td>254</td>\n",
       "      <td>16381</td>\n",
       "      <td>-1008</td>\n",
       "      <td>(-7, 12)</td>\n",
       "      <td>[10470, 3723, 8019, 10196, 9688, 13720, 3803, ...</td>\n",
       "      <td>20</td>\n",
       "    </tr>\n",
       "    <tr>\n",
       "      <th>(255, 16381)</th>\n",
       "      <td>255</td>\n",
       "      <td>16381</td>\n",
       "      <td>-499</td>\n",
       "      <td>(-499, 1)</td>\n",
       "      <td>[2936, 14078, 15240]</td>\n",
       "      <td>3</td>\n",
       "    </tr>\n",
       "  </tbody>\n",
       "</table>\n",
       "<p>310837 rows × 6 columns</p>\n",
       "</div>"
      ],
      "text/plain": [
       "              TraceFrob  Prime  Discriminant DiscriminantFac  \\\n",
       "ap                                                             \n",
       "(0, 5)                0      5           -20        (-20, 1)   \n",
       "(1, 5)                1      5           -19        (-19, 1)   \n",
       "(2, 5)                2      5           -16         (-4, 2)   \n",
       "(3, 5)                3      5           -11        (-11, 1)   \n",
       "(4, 5)                4      5            -4         (-4, 1)   \n",
       "...                 ...    ...           ...             ...   \n",
       "(251, 16381)        251  16381         -2523        (-3, 29)   \n",
       "(252, 16381)        252  16381         -2020      (-2020, 1)   \n",
       "(253, 16381)        253  16381         -1515      (-1515, 1)   \n",
       "(254, 16381)        254  16381         -1008        (-7, 12)   \n",
       "(255, 16381)        255  16381          -499       (-499, 1)   \n",
       "\n",
       "                                                    jInvariants  degree  \n",
       "ap                                                                       \n",
       "(0, 5)                                                      [0]       2  \n",
       "(1, 5)                                                      [4]       1  \n",
       "(2, 5)                                                   [1, 3]       2  \n",
       "(3, 5)                                                      [2]       1  \n",
       "(4, 5)                                                      [3]       1  \n",
       "...                                                         ...     ...  \n",
       "(251, 16381)  [6190, 6252, 6149, 8256, 6959, 1809, 10431, 10...      11  \n",
       "(252, 16381)  [7524, 11748, 7622, 9234, 16286, 6173, 2645, 7...       8  \n",
       "(253, 16381)  [7110, 8942, 10621, 1981, 9728, 3817, 4713, 58...      12  \n",
       "(254, 16381)  [10470, 3723, 8019, 10196, 9688, 13720, 3803, ...      20  \n",
       "(255, 16381)                               [2936, 14078, 15240]       3  \n",
       "\n",
       "[310837 rows x 6 columns]"
      ]
     },
     "execution_count": 19,
     "metadata": {},
     "output_type": "execute_result"
    }
   ],
   "source": [
    "ellcurvedata"
   ]
  },
  {
   "cell_type": "markdown",
   "metadata": {},
   "source": [
    "The relevant discriminants are stored in the list 'goodds'.\n",
    "\n",
    "For each of the relevant discriminants, the dictionary goodpairs stores a list of all pairs $(a,p)$ with that discriminant, with $p < 2^{14}$ and $a$ always nonnegative."
   ]
  },
  {
   "cell_type": "code",
   "execution_count": 20,
   "metadata": {},
   "outputs": [],
   "source": [
    "goodpairs = {-7:list(ellcurvedata.loc[ellcurvedata.Discriminant == -28].index)}\n",
    "goodds = [-19,  -11,   -4,   -3,  -43,   -8,  -67, -163]\n",
    "for d in goodds:\n",
    "    goodpairs[d] = list(ellcurvedata.loc[ellcurvedata.Discriminant == d].index)\n",
    "for d in goodpairs:\n",
    "    goodpairs[d].sort(key= lambda x:x[1])"
   ]
  },
  {
   "cell_type": "markdown",
   "metadata": {},
   "source": [
    "For each equivalence class, we pick out the pair $(a,p)$ with smallest $p>3$ that appears in the list. *I'm taking the second smallest for $p = 7$ because the smallest is $(0,7)$ and I don't want to deal with $a=0$ yet.*"
   ]
  },
  {
   "cell_type": "code",
   "execution_count": 21,
   "metadata": {},
   "outputs": [],
   "source": [
    "smallest_examples = [goodpairs[d][0+int(d==-7)] for d in goodpairs]\n",
    "smallest_examples_twist = [(-ap[0],ap[1]) for ap in smallest_examples]"
   ]
  },
  {
   "cell_type": "code",
   "execution_count": 22,
   "metadata": {},
   "outputs": [
    {
     "data": {
      "text/plain": [
       "[(4, 11), (1, 5), (3, 5), (4, 5), (5, 7), (1, 11), (6, 11), (1, 17), (1, 41)]"
      ]
     },
     "execution_count": 22,
     "metadata": {},
     "output_type": "execute_result"
    }
   ],
   "source": [
    "smallest_examples"
   ]
  },
  {
   "cell_type": "markdown",
   "metadata": {},
   "source": [
    "We want to keep the number of points bounded above by ~15K (I'm going to use $2^{14}$ as the actual upper bound). The number of points on an elliptic curve over $\\mathbb{F}_{p^n}$ is approximately $p^n$, so we will determine largest powers $n$ such that $p^n < 2^{14}$ for the primes in the smallest examples list."
   ]
  },
  {
   "cell_type": "code",
   "execution_count": 23,
   "metadata": {},
   "outputs": [],
   "source": [
    "primeexpbounds = {p[1]:[1,p[1]] for p in smallest_examples}\n",
    "for p in primeexpbounds:\n",
    "    while primeexpbounds[p][1]*p<2**14:\n",
    "        primeexpbounds[p][0]+=1\n",
    "        primeexpbounds[p][1]*=p"
   ]
  },
  {
   "cell_type": "code",
   "execution_count": 24,
   "metadata": {},
   "outputs": [],
   "source": [
    "smallest_examples_pointgroups = {ap:[pointgroup_roi(ap,n) \n",
    "                                     for n in range(1,1+primeexpbounds[ap[1]][0])] \n",
    "                                     for ap in smallest_examples+smallest_examples_twist}"
   ]
  },
  {
   "cell_type": "code",
   "execution_count": 36,
   "metadata": {},
   "outputs": [
    {
     "data": {
      "text/plain": [
       "'[0.4,0.3]'"
      ]
     },
     "execution_count": 36,
     "metadata": {},
     "output_type": "execute_result"
    }
   ],
   "source": [
    "str(smallest_examples_pointgroups[(-4,5)][1][0]).replace(' ',',')"
   ]
  },
  {
   "cell_type": "code",
   "execution_count": 27,
   "metadata": {},
   "outputs": [],
   "source": [
    "import os"
   ]
  },
  {
   "cell_type": "code",
   "execution_count": 43,
   "metadata": {},
   "outputs": [],
   "source": [
    "for d in goodpairs:\n",
    "    os.mkdir(str(d))\n",
    "    \n",
    "for ap in smallest_examples_pointgroups:\n",
    "    a, p = ap\n",
    "    d = discfac(a*a-4*p)[0]\n",
    "    imagepath = str(d)+'/'+str(a)+'_'+str(p)+'/'\n",
    "    os.mkdir(imagepath)\n",
    "    for n, gr in enumerate(smallest_examples_pointgroups[ap]):\n",
    "        file = open(imagepath+str(n+1)+'.txt','a')\n",
    "        for i in range((len(gr)//3)+1):\n",
    "            stri = ''\n",
    "            for vec in gr[3*i:3*(i+1)]:\n",
    "                stri += '['+str(vec[0])[:10]+','+str(vec[1])[:10]+'],'\n",
    "            stri+='\\n'\n",
    "            file.write(stri)\n",
    "        file.close()\n"
   ]
  },
  {
   "cell_type": "code",
   "execution_count": 73,
   "metadata": {},
   "outputs": [],
   "source": [
    "n = 5\n",
    "gr = pointgroup_roi((-5,7),n)"
   ]
  },
  {
   "cell_type": "code",
   "execution_count": 75,
   "metadata": {},
   "outputs": [],
   "source": [
    "imagepath = str(-3)+'/'+str(-5)+'_'+str(7)+'/'"
   ]
  },
  {
   "cell_type": "code",
   "execution_count": 76,
   "metadata": {},
   "outputs": [],
   "source": [
    "file = open(imagepath+str(n)+'.txt','a')\n",
    "for i in range((len(gr)//3)+1):\n",
    "    stri = ''\n",
    "    for vec in gr[3*i:3*(i+1)]:\n",
    "        stri += '['+str(vec[0])[:10]+','+str(vec[1])[:10]+'],'\n",
    "    stri+='\\n'\n",
    "    file.write(stri)\n",
    "file.close()\n"
   ]
  },
  {
   "cell_type": "markdown",
   "metadata": {},
   "source": [
    "## Algebraic point groups"
   ]
  },
  {
   "cell_type": "code",
   "execution_count": 97,
   "metadata": {},
   "outputs": [],
   "source": []
  },
  {
   "cell_type": "code",
   "execution_count": 99,
   "metadata": {},
   "outputs": [
    {
     "data": {
      "text/plain": [
       "8"
      ]
     },
     "execution_count": 99,
     "metadata": {},
     "output_type": "execute_result"
    }
   ],
   "source": [
    "eltoforder_mod(6,19)"
   ]
  },
  {
   "cell_type": "code",
   "execution_count": 100,
   "metadata": {},
   "outputs": [
    {
     "data": {
      "text/plain": [
       "[1, 8, 7, 18, 11, 12, 1]"
      ]
     },
     "execution_count": 100,
     "metadata": {},
     "output_type": "execute_result"
    }
   ],
   "source": [
    "[pow(8,n,19) for n in range(7)]"
   ]
  },
  {
   "cell_type": "code",
   "execution_count": null,
   "metadata": {},
   "outputs": [],
   "source": []
  },
  {
   "cell_type": "code",
   "execution_count": 50,
   "metadata": {},
   "outputs": [],
   "source": [
    "def qr(a,p):\n",
    "    r = pow(a,p//2,p)\n",
    "    if r < 2:\n",
    "        return r\n",
    "    else:\n",
    "        return -1\n",
    "\n",
    "def eltoforder_mod(n,p):\n",
    "    if (p-1)% n != 0:\n",
    "        return 0\n",
    "    x = 2\n",
    "    while x < p:\n",
    "        xe = pow(x,(p-1)//n,p)\n",
    "        xens = {pow(xe,e,p) for e in range(n)}\n",
    "        if len(xens)==n:\n",
    "            return xe\n",
    "        x+=1\n",
    "    return 0\n",
    "\n",
    "def compute_trace(fg:tuple[int],p:int)->int:\n",
    "    f,g = fg\n",
    "    return - sum([qr(x**3+f*x+g,p) for x in range(p)])\n",
    "\n",
    "def get_ellcurves_in_class(ap):\n",
    "    a,p = ap\n",
    "    a = int(a)\n",
    "    p = int(p)\n",
    "    eqns = []\n",
    "    ns = p-1\n",
    "    d,c = discfac(a*a-4*p)\n",
    "    while qr(ns,p)>=0:\n",
    "        ns-=1\n",
    "    for t in range(2,p):\n",
    "        ft = (-3*t)%p\n",
    "        gt = (2*t)%p\n",
    "        tr = compute_trace((ft,gt),p)\n",
    "        if tr == a:\n",
    "            eqns.append((ft,gt))\n",
    "        if tr == -a:\n",
    "            ft = ns*ns*ft %p\n",
    "            gt = ns*ns*ns*gt %p\n",
    "            eqns.append((ft,gt))\n",
    "    if p % 3 == 2 and a == 0:\n",
    "        eqns+= [(0,1),(0,ns)]\n",
    "    elif p % 3 == 1 and d == -3:\n",
    "        gen6 = eltoforder_mod(6,p)\n",
    "        cands = [(0,pow(gen6,e,p)) for e in range(6)]\n",
    "        eqns+=[fg for fg in cands if compute_trace(fg,p)==a]\n",
    "    if p % 4 == 3 and a == 0:\n",
    "        eqns+=[(1,0),(ns,0)]\n",
    "    elif p % 4 == 1 and d == -4:\n",
    "        gen4 = eltoforder_mod(4,p)\n",
    "        cands = [(pow(gen4,e,p),0) for e in range(4)]\n",
    "        eqns+=[fg for fg in cands if compute_trace(fg,p)==a]\n",
    "    return eqns"
   ]
  },
  {
   "cell_type": "code",
   "execution_count": 51,
   "metadata": {},
   "outputs": [
    {
     "data": {
      "text/plain": [
       "[(2, 0)]"
      ]
     },
     "execution_count": 51,
     "metadata": {},
     "output_type": "execute_result"
    }
   ],
   "source": [
    "get_ellcurves_in_class((4,5))"
   ]
  },
  {
   "cell_type": "code",
   "execution_count": 52,
   "metadata": {},
   "outputs": [
    {
     "data": {
      "text/plain": [
       "[(-4, 11),\n",
       " (-1, 5),\n",
       " (-3, 5),\n",
       " (-4, 5),\n",
       " (-5, 7),\n",
       " (-1, 11),\n",
       " (-6, 11),\n",
       " (-1, 17),\n",
       " (-1, 41)]"
      ]
     },
     "execution_count": 52,
     "metadata": {},
     "output_type": "execute_result"
    }
   ],
   "source": [
    "smallest_examples_twist"
   ]
  },
  {
   "cell_type": "code",
   "execution_count": 55,
   "metadata": {},
   "outputs": [],
   "source": [
    "ecs_smex_tw = {ap:get_ellcurves_in_class(ap)[0] for ap in smallest_examples_twist}"
   ]
  },
  {
   "cell_type": "code",
   "execution_count": 56,
   "metadata": {},
   "outputs": [
    {
     "data": {
      "text/plain": [
       "{(-4, 11): (5, 7),\n",
       " (-1, 5): (2, 1),\n",
       " (-3, 5): (1, 1),\n",
       " (-4, 5): (3, 0),\n",
       " (-5, 7): (0, 3),\n",
       " (-1, 11): (3, 2),\n",
       " (-6, 11): (1, 3),\n",
       " (-1, 17): (8, 16),\n",
       " (-1, 41): (35, 29)}"
      ]
     },
     "execution_count": 56,
     "metadata": {},
     "output_type": "execute_result"
    }
   ],
   "source": [
    "ecs_smex_tw"
   ]
  },
  {
   "cell_type": "code",
   "execution_count": 60,
   "metadata": {},
   "outputs": [],
   "source": [
    "def fg_to_str(fg,p=None):\n",
    "    ec = 'y^2 = x^3 + '\n",
    "    if fg[0]!=0:\n",
    "        ec+=str(fg[0])+'x'\n",
    "        if fg[1]!=0:\n",
    "            ec+='+'\n",
    "    if fg[1]!=0:\n",
    "        ec+=str(fg[1])\n",
    "    if p!= None:\n",
    "        ec+=' mod '+str(p)\n",
    "    return ec"
   ]
  },
  {
   "cell_type": "code",
   "execution_count": null,
   "metadata": {},
   "outputs": [],
   "source": []
  }
 ],
 "metadata": {
  "kernelspec": {
   "display_name": "Python 3",
   "language": "python",
   "name": "python3"
  },
  "language_info": {
   "codemirror_mode": {
    "name": "ipython",
    "version": 3
   },
   "file_extension": ".py",
   "mimetype": "text/x-python",
   "name": "python",
   "nbconvert_exporter": "python",
   "pygments_lexer": "ipython3",
   "version": "3.11.3"
  }
 },
 "nbformat": 4,
 "nbformat_minor": 2
}
